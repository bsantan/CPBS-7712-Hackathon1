{
 "cells": [
  {
   "cell_type": "code",
   "execution_count": 3,
   "metadata": {},
   "outputs": [],
   "source": [
    "import pathlib as Path\n",
    "import pandas as pd\n",
    "from os import path, makedirs\n",
    "from pysradb import SRAweb"
   ]
  },
  {
   "cell_type": "code",
   "execution_count": 84,
   "metadata": {},
   "outputs": [],
   "source": [
    "def downloadDataFromSRA(subject_runs, index = 0, outdir = './', metadata = None):\n",
    "    #make the outdir if it doesn't exist\n",
    "    if not path.isdir(outdir):\n",
    "        makedirs(outdir)\n",
    "        \n",
    "    #instantiate the DB\n",
    "    db = SRAweb()\n",
    "    #all data for this patient\n",
    "    if metadata is None:\n",
    "        metadata = db.sra_metadata(subject_runs.loc[0,'SRA Study'],detailed = True)\n",
    "    #download only one if you pass an int\n",
    "    if type(index)==int:\n",
    "        print('Downloading run accession %s from database.'%metadata.loc[index,'run_accession'])\n",
    "        data = db.download(df = metadata.loc[:index,:],skip_confirmation = True, use_ascp = False, out_dir = outdir)\n",
    "    #download the entire list--recursion here\n",
    "    elif type(index)==list:\n",
    "        data = pd.concat([downloadDataFromSRA(subject_runs, index=x, outdir = outdir, metadata = metadata) for x in index])\n",
    "        print('Done downloading list! Successfully downloaded %d files.'%len(data.index.values))\n",
    "    #don't download anything!\n",
    "    else:\n",
    "        raise ValueError('Index type not supported! Please pass either an int or a list of indices.')\n",
    "        \n",
    "    return data\n",
    "        "
   ]
  },
  {
   "cell_type": "code",
   "execution_count": 85,
   "metadata": {},
   "outputs": [],
   "source": [
    "#parameters\n",
    "subject = 'p8808'\n",
    "samples_to_download = [0,1,2]"
   ]
  },
  {
   "cell_type": "code",
   "execution_count": 86,
   "metadata": {},
   "outputs": [],
   "source": [
    "datafolder = Path.PurePath('../data/')\n",
    "run_table = pd.read_csv(datafolder / 'SraRunTable.txt').set_index(['Subject'])\n",
    "subject_runs = run_table.loc[subject].reset_index(drop=True)"
   ]
  },
  {
   "cell_type": "code",
   "execution_count": 87,
   "metadata": {},
   "outputs": [
    {
     "name": "stdout",
     "output_type": "stream",
     "text": [
      "Downloading run accession SRR5651391 from database.\n",
      "The supplied url column \"None\" cannot be found.\n",
      "\n",
      "Using recommended_url instead.\n",
      "\n",
      "Checking download URLs\n",
      "The following files will be downloaded: \n",
      "\n",
      "run_accession study_accession experiment_accession recommended_url                                                                          download_url                                                                                          out_dir  filesize\n",
      "SRR5651391    SRP108708       SRX2888364           https://sra-downloadb.st-va.ncbi.nlm.nih.gov/sos1/sra-pub-run-12/SRR5651391/SRR5651391.1 ftp://ftp-trace.ncbi.nlm.nih.gov/sra/sra-instant/reads/ByRun/sra/SRR/SRR565/SRR5651391/SRR5651391.sra ../data/ 371.4 MB\n",
      "\n",
      "\n",
      "Total size: 371.4 MB\n",
      "\n",
      "\n"
     ]
    },
    {
     "data": {
      "application/vnd.jupyter.widget-view+json": {
       "model_id": "8ee5d60c14a640a48f60fa9bd46950bc",
       "version_major": 2,
       "version_minor": 0
      },
      "text/plain": [
       "  0%|          | 0/1 [00:00<?, ?it/s]"
      ]
     },
     "metadata": {},
     "output_type": "display_data"
    },
    {
     "name": "stdout",
     "output_type": "stream",
     "text": [
      "Downloading run accession SRR5651392 from database.\n",
      "The supplied url column \"None\" cannot be found.\n",
      "\n",
      "Using recommended_url instead.\n",
      "\n",
      "Checking download URLs\n",
      "The following files will be downloaded: \n",
      "\n",
      "run_accession study_accession experiment_accession recommended_url                                                                          download_url                                                                                          out_dir  filesize\n",
      "SRR5651391    SRP108708       SRX2888364           https://sra-downloadb.st-va.ncbi.nlm.nih.gov/sos1/sra-pub-run-12/SRR5651391/SRR5651391.1 ftp://ftp-trace.ncbi.nlm.nih.gov/sra/sra-instant/reads/ByRun/sra/SRR/SRR565/SRR5651391/SRR5651391.sra ../data/ 371.4 MB\n",
      "SRR5651392    SRP108708       SRX2888363           https://sra-downloadb.st-va.ncbi.nlm.nih.gov/sos1/sra-pub-run-12/SRR5651392/SRR5651392.1 ftp://ftp-trace.ncbi.nlm.nih.gov/sra/sra-instant/reads/ByRun/sra/SRR/SRR565/SRR5651392/SRR5651392.sra ../data/  65.5 MB\n",
      "\n",
      "\n",
      "Total size: 436.9 MB\n",
      "\n",
      "\n"
     ]
    },
    {
     "data": {
      "application/vnd.jupyter.widget-view+json": {
       "model_id": "78a5adf295e04916ab6f87772c40fa4e",
       "version_major": 2,
       "version_minor": 0
      },
      "text/plain": [
       "  0%|          | 0/2 [00:00<?, ?it/s]"
      ]
     },
     "metadata": {},
     "output_type": "display_data"
    },
    {
     "name": "stdout",
     "output_type": "stream",
     "text": [
      "Downloading run accession SRR5651393 from database.\n",
      "The supplied url column \"None\" cannot be found.\n",
      "\n",
      "Using recommended_url instead.\n",
      "\n",
      "Checking download URLs\n",
      "The following files will be downloaded: \n",
      "\n",
      "run_accession study_accession experiment_accession recommended_url                                                                          download_url                                                                                          out_dir  filesize\n",
      "SRR5651391    SRP108708       SRX2888364           https://sra-downloadb.st-va.ncbi.nlm.nih.gov/sos1/sra-pub-run-12/SRR5651391/SRR5651391.1 ftp://ftp-trace.ncbi.nlm.nih.gov/sra/sra-instant/reads/ByRun/sra/SRR/SRR565/SRR5651391/SRR5651391.sra ../data/ 371.4 MB\n",
      "SRR5651392    SRP108708       SRX2888363           https://sra-downloadb.st-va.ncbi.nlm.nih.gov/sos1/sra-pub-run-12/SRR5651392/SRR5651392.1 ftp://ftp-trace.ncbi.nlm.nih.gov/sra/sra-instant/reads/ByRun/sra/SRR/SRR565/SRR5651392/SRR5651392.sra ../data/  65.5 MB\n",
      "SRR5651393    SRP108708       SRX2888362           https://sra-downloadb.st-va.ncbi.nlm.nih.gov/sos1/sra-pub-run-12/SRR5651393/SRR5651393.1 ftp://ftp-trace.ncbi.nlm.nih.gov/sra/sra-instant/reads/ByRun/sra/SRR/SRR565/SRR5651393/SRR5651393.sra ../data/ 715.6 MB\n",
      "\n",
      "\n",
      "Total size: 1.2 GB\n",
      "\n",
      "\n"
     ]
    },
    {
     "data": {
      "application/vnd.jupyter.widget-view+json": {
       "model_id": "9b99ec85f088416091cf3d5bdf056e4b",
       "version_major": 2,
       "version_minor": 0
      },
      "text/plain": [
       "  0%|          | 0/3 [00:00<?, ?it/s]"
      ]
     },
     "metadata": {},
     "output_type": "display_data"
    }
   ],
   "source": [
    "#testing out the first 3!\n",
    "data = downloadDataFromSRA(subject_runs, index=samples_to_download, outdir = '../data/')"
   ]
  },
  {
   "cell_type": "code",
   "execution_count": null,
   "metadata": {},
   "outputs": [],
   "source": []
  }
 ],
 "metadata": {
  "kernelspec": {
   "display_name": "Python 3",
   "language": "python",
   "name": "python3"
  },
  "language_info": {
   "codemirror_mode": {
    "name": "ipython",
    "version": 3
   },
   "file_extension": ".py",
   "mimetype": "text/x-python",
   "name": "python",
   "nbconvert_exporter": "python",
   "pygments_lexer": "ipython3",
   "version": "3.8.3"
  }
 },
 "nbformat": 4,
 "nbformat_minor": 4
}
